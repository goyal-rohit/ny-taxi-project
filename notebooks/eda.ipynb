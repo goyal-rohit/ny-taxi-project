{
 "cells": [
  {
   "cell_type": "code",
   "execution_count": 53,
   "metadata": {},
   "outputs": [],
   "source": [
    "import pandas as pd\n",
    "import numpy as np\n",
    "from sklearn.model_selection import train_test_split, cross_val_score\n",
    "from sklearn.preprocessing import OneHotEncoder, StandardScaler\n",
    "from sklearn.pipeline import Pipeline\n",
    "from sklearn.metrics import r2_score, mean_absolute_error, mean_squared_error\n",
    "from sklearn.compose import ColumnTransformer\n",
    "from sklearn.linear_model import LinearRegression, Ridge, Lasso, ElasticNet\n",
    "from sklearn.ensemble import RandomForestRegressor, BaggingRegressor, AdaBoostRegressor, GradientBoostingRegressor\n",
    "from sklearn.tree import DecisionTreeRegressor\n",
    "from sklearn.model_selection import GridSearchCV"
   ]
  },
  {
   "cell_type": "code",
   "execution_count": 2,
   "metadata": {},
   "outputs": [],
   "source": [
    "data = pd.read_csv(r'E:\\CampusX\\DSML_2\\ny-taxi-project\\data\\raw\\train.csv')"
   ]
  },
  {
   "cell_type": "code",
   "execution_count": 3,
   "metadata": {},
   "outputs": [],
   "source": [
    "n,p = data.shape"
   ]
  },
  {
   "cell_type": "code",
   "execution_count": 4,
   "metadata": {},
   "outputs": [
    {
     "data": {
      "text/plain": [
       "1458644"
      ]
     },
     "execution_count": 4,
     "metadata": {},
     "output_type": "execute_result"
    }
   ],
   "source": [
    "n"
   ]
  },
  {
   "cell_type": "code",
   "execution_count": 5,
   "metadata": {},
   "outputs": [
    {
     "data": {
      "text/plain": [
       "11"
      ]
     },
     "execution_count": 5,
     "metadata": {},
     "output_type": "execute_result"
    }
   ],
   "source": [
    "p"
   ]
  },
  {
   "cell_type": "code",
   "execution_count": 6,
   "metadata": {},
   "outputs": [
    {
     "data": {
      "text/plain": [
       "(1458644, 11)"
      ]
     },
     "execution_count": 6,
     "metadata": {},
     "output_type": "execute_result"
    }
   ],
   "source": [
    "data.shape"
   ]
  },
  {
   "cell_type": "code",
   "execution_count": 7,
   "metadata": {},
   "outputs": [
    {
     "name": "stdout",
     "output_type": "stream",
     "text": [
      "<class 'pandas.core.frame.DataFrame'>\n",
      "RangeIndex: 1458644 entries, 0 to 1458643\n",
      "Data columns (total 11 columns):\n",
      " #   Column              Non-Null Count    Dtype  \n",
      "---  ------              --------------    -----  \n",
      " 0   id                  1458644 non-null  object \n",
      " 1   vendor_id           1458644 non-null  int64  \n",
      " 2   pickup_datetime     1458644 non-null  object \n",
      " 3   dropoff_datetime    1458644 non-null  object \n",
      " 4   passenger_count     1458644 non-null  int64  \n",
      " 5   pickup_longitude    1458644 non-null  float64\n",
      " 6   pickup_latitude     1458644 non-null  float64\n",
      " 7   dropoff_longitude   1458644 non-null  float64\n",
      " 8   dropoff_latitude    1458644 non-null  float64\n",
      " 9   store_and_fwd_flag  1458644 non-null  object \n",
      " 10  trip_duration       1458644 non-null  int64  \n",
      "dtypes: float64(4), int64(3), object(4)\n",
      "memory usage: 122.4+ MB\n"
     ]
    }
   ],
   "source": [
    "data.info()"
   ]
  },
  {
   "cell_type": "code",
   "execution_count": 8,
   "metadata": {},
   "outputs": [
    {
     "data": {
      "text/html": [
       "<div>\n",
       "<style scoped>\n",
       "    .dataframe tbody tr th:only-of-type {\n",
       "        vertical-align: middle;\n",
       "    }\n",
       "\n",
       "    .dataframe tbody tr th {\n",
       "        vertical-align: top;\n",
       "    }\n",
       "\n",
       "    .dataframe thead th {\n",
       "        text-align: right;\n",
       "    }\n",
       "</style>\n",
       "<table border=\"1\" class=\"dataframe\">\n",
       "  <thead>\n",
       "    <tr style=\"text-align: right;\">\n",
       "      <th></th>\n",
       "      <th>id</th>\n",
       "      <th>vendor_id</th>\n",
       "      <th>pickup_datetime</th>\n",
       "      <th>dropoff_datetime</th>\n",
       "      <th>passenger_count</th>\n",
       "      <th>pickup_longitude</th>\n",
       "      <th>pickup_latitude</th>\n",
       "      <th>dropoff_longitude</th>\n",
       "      <th>dropoff_latitude</th>\n",
       "      <th>store_and_fwd_flag</th>\n",
       "      <th>trip_duration</th>\n",
       "    </tr>\n",
       "  </thead>\n",
       "  <tbody>\n",
       "    <tr>\n",
       "      <th>202931</th>\n",
       "      <td>id1553827</td>\n",
       "      <td>2</td>\n",
       "      <td>2016-05-17 23:18:45</td>\n",
       "      <td>2016-05-17 23:44:50</td>\n",
       "      <td>1</td>\n",
       "      <td>-73.862732</td>\n",
       "      <td>40.768948</td>\n",
       "      <td>-73.980011</td>\n",
       "      <td>40.764706</td>\n",
       "      <td>N</td>\n",
       "      <td>1565</td>\n",
       "    </tr>\n",
       "    <tr>\n",
       "      <th>343281</th>\n",
       "      <td>id2937837</td>\n",
       "      <td>2</td>\n",
       "      <td>2016-01-11 15:12:54</td>\n",
       "      <td>2016-01-11 15:38:37</td>\n",
       "      <td>1</td>\n",
       "      <td>-73.864464</td>\n",
       "      <td>40.769753</td>\n",
       "      <td>-73.973656</td>\n",
       "      <td>40.754387</td>\n",
       "      <td>N</td>\n",
       "      <td>1543</td>\n",
       "    </tr>\n",
       "    <tr>\n",
       "      <th>887317</th>\n",
       "      <td>id0386399</td>\n",
       "      <td>1</td>\n",
       "      <td>2016-04-21 18:26:47</td>\n",
       "      <td>2016-04-21 18:50:53</td>\n",
       "      <td>3</td>\n",
       "      <td>-73.999748</td>\n",
       "      <td>40.726963</td>\n",
       "      <td>-73.984528</td>\n",
       "      <td>40.754646</td>\n",
       "      <td>N</td>\n",
       "      <td>1446</td>\n",
       "    </tr>\n",
       "    <tr>\n",
       "      <th>77851</th>\n",
       "      <td>id2560797</td>\n",
       "      <td>1</td>\n",
       "      <td>2016-06-25 10:27:33</td>\n",
       "      <td>2016-06-25 10:36:21</td>\n",
       "      <td>1</td>\n",
       "      <td>-73.992325</td>\n",
       "      <td>40.737911</td>\n",
       "      <td>-74.008133</td>\n",
       "      <td>40.745026</td>\n",
       "      <td>N</td>\n",
       "      <td>528</td>\n",
       "    </tr>\n",
       "    <tr>\n",
       "      <th>814128</th>\n",
       "      <td>id3222084</td>\n",
       "      <td>2</td>\n",
       "      <td>2016-04-30 11:07:03</td>\n",
       "      <td>2016-04-30 11:13:53</td>\n",
       "      <td>1</td>\n",
       "      <td>-73.990814</td>\n",
       "      <td>40.756092</td>\n",
       "      <td>-73.995148</td>\n",
       "      <td>40.741348</td>\n",
       "      <td>N</td>\n",
       "      <td>410</td>\n",
       "    </tr>\n",
       "    <tr>\n",
       "      <th>1314968</th>\n",
       "      <td>id3776579</td>\n",
       "      <td>2</td>\n",
       "      <td>2016-03-08 16:51:31</td>\n",
       "      <td>2016-03-08 17:06:03</td>\n",
       "      <td>1</td>\n",
       "      <td>-73.964523</td>\n",
       "      <td>40.801838</td>\n",
       "      <td>-73.940987</td>\n",
       "      <td>40.803337</td>\n",
       "      <td>N</td>\n",
       "      <td>872</td>\n",
       "    </tr>\n",
       "    <tr>\n",
       "      <th>917266</th>\n",
       "      <td>id3601542</td>\n",
       "      <td>2</td>\n",
       "      <td>2016-01-13 22:34:53</td>\n",
       "      <td>2016-01-13 22:48:57</td>\n",
       "      <td>1</td>\n",
       "      <td>-74.009842</td>\n",
       "      <td>40.720856</td>\n",
       "      <td>-73.987915</td>\n",
       "      <td>40.776249</td>\n",
       "      <td>N</td>\n",
       "      <td>844</td>\n",
       "    </tr>\n",
       "    <tr>\n",
       "      <th>1443335</th>\n",
       "      <td>id2951674</td>\n",
       "      <td>2</td>\n",
       "      <td>2016-02-11 23:11:54</td>\n",
       "      <td>2016-02-11 23:36:54</td>\n",
       "      <td>1</td>\n",
       "      <td>-73.862984</td>\n",
       "      <td>40.769341</td>\n",
       "      <td>-73.989471</td>\n",
       "      <td>40.757759</td>\n",
       "      <td>N</td>\n",
       "      <td>1500</td>\n",
       "    </tr>\n",
       "    <tr>\n",
       "      <th>1026766</th>\n",
       "      <td>id1419200</td>\n",
       "      <td>1</td>\n",
       "      <td>2016-01-07 15:55:55</td>\n",
       "      <td>2016-01-07 16:19:38</td>\n",
       "      <td>1</td>\n",
       "      <td>-73.997185</td>\n",
       "      <td>40.737129</td>\n",
       "      <td>-73.960754</td>\n",
       "      <td>40.772427</td>\n",
       "      <td>N</td>\n",
       "      <td>1423</td>\n",
       "    </tr>\n",
       "    <tr>\n",
       "      <th>1446376</th>\n",
       "      <td>id3211187</td>\n",
       "      <td>2</td>\n",
       "      <td>2016-04-30 02:56:05</td>\n",
       "      <td>2016-04-30 02:58:51</td>\n",
       "      <td>5</td>\n",
       "      <td>-73.978462</td>\n",
       "      <td>40.745522</td>\n",
       "      <td>-73.968750</td>\n",
       "      <td>40.758606</td>\n",
       "      <td>N</td>\n",
       "      <td>166</td>\n",
       "    </tr>\n",
       "  </tbody>\n",
       "</table>\n",
       "</div>"
      ],
      "text/plain": [
       "                id  vendor_id      pickup_datetime     dropoff_datetime  \\\n",
       "202931   id1553827          2  2016-05-17 23:18:45  2016-05-17 23:44:50   \n",
       "343281   id2937837          2  2016-01-11 15:12:54  2016-01-11 15:38:37   \n",
       "887317   id0386399          1  2016-04-21 18:26:47  2016-04-21 18:50:53   \n",
       "77851    id2560797          1  2016-06-25 10:27:33  2016-06-25 10:36:21   \n",
       "814128   id3222084          2  2016-04-30 11:07:03  2016-04-30 11:13:53   \n",
       "1314968  id3776579          2  2016-03-08 16:51:31  2016-03-08 17:06:03   \n",
       "917266   id3601542          2  2016-01-13 22:34:53  2016-01-13 22:48:57   \n",
       "1443335  id2951674          2  2016-02-11 23:11:54  2016-02-11 23:36:54   \n",
       "1026766  id1419200          1  2016-01-07 15:55:55  2016-01-07 16:19:38   \n",
       "1446376  id3211187          2  2016-04-30 02:56:05  2016-04-30 02:58:51   \n",
       "\n",
       "         passenger_count  pickup_longitude  pickup_latitude  \\\n",
       "202931                 1        -73.862732        40.768948   \n",
       "343281                 1        -73.864464        40.769753   \n",
       "887317                 3        -73.999748        40.726963   \n",
       "77851                  1        -73.992325        40.737911   \n",
       "814128                 1        -73.990814        40.756092   \n",
       "1314968                1        -73.964523        40.801838   \n",
       "917266                 1        -74.009842        40.720856   \n",
       "1443335                1        -73.862984        40.769341   \n",
       "1026766                1        -73.997185        40.737129   \n",
       "1446376                5        -73.978462        40.745522   \n",
       "\n",
       "         dropoff_longitude  dropoff_latitude store_and_fwd_flag  trip_duration  \n",
       "202931          -73.980011         40.764706                  N           1565  \n",
       "343281          -73.973656         40.754387                  N           1543  \n",
       "887317          -73.984528         40.754646                  N           1446  \n",
       "77851           -74.008133         40.745026                  N            528  \n",
       "814128          -73.995148         40.741348                  N            410  \n",
       "1314968         -73.940987         40.803337                  N            872  \n",
       "917266          -73.987915         40.776249                  N            844  \n",
       "1443335         -73.989471         40.757759                  N           1500  \n",
       "1026766         -73.960754         40.772427                  N           1423  \n",
       "1446376         -73.968750         40.758606                  N            166  "
      ]
     },
     "execution_count": 8,
     "metadata": {},
     "output_type": "execute_result"
    }
   ],
   "source": [
    "data.sample(10)"
   ]
  },
  {
   "cell_type": "code",
   "execution_count": 9,
   "metadata": {},
   "outputs": [
    {
     "data": {
      "text/plain": [
       "(1458644, 11)"
      ]
     },
     "execution_count": 9,
     "metadata": {},
     "output_type": "execute_result"
    }
   ],
   "source": [
    "data.shape"
   ]
  },
  {
   "cell_type": "code",
   "execution_count": 10,
   "metadata": {},
   "outputs": [
    {
     "data": {
      "text/plain": [
       "0"
      ]
     },
     "execution_count": 10,
     "metadata": {},
     "output_type": "execute_result"
    }
   ],
   "source": [
    "data.duplicated().sum()"
   ]
  },
  {
   "cell_type": "code",
   "execution_count": 11,
   "metadata": {},
   "outputs": [
    {
     "data": {
      "text/html": [
       "<div>\n",
       "<style scoped>\n",
       "    .dataframe tbody tr th:only-of-type {\n",
       "        vertical-align: middle;\n",
       "    }\n",
       "\n",
       "    .dataframe tbody tr th {\n",
       "        vertical-align: top;\n",
       "    }\n",
       "\n",
       "    .dataframe thead th {\n",
       "        text-align: right;\n",
       "    }\n",
       "</style>\n",
       "<table border=\"1\" class=\"dataframe\">\n",
       "  <thead>\n",
       "    <tr style=\"text-align: right;\">\n",
       "      <th></th>\n",
       "      <th>vendor_id</th>\n",
       "      <th>passenger_count</th>\n",
       "      <th>pickup_longitude</th>\n",
       "      <th>pickup_latitude</th>\n",
       "      <th>dropoff_longitude</th>\n",
       "      <th>dropoff_latitude</th>\n",
       "      <th>trip_duration</th>\n",
       "    </tr>\n",
       "  </thead>\n",
       "  <tbody>\n",
       "    <tr>\n",
       "      <th>count</th>\n",
       "      <td>1.458644e+06</td>\n",
       "      <td>1.458644e+06</td>\n",
       "      <td>1.458644e+06</td>\n",
       "      <td>1.458644e+06</td>\n",
       "      <td>1.458644e+06</td>\n",
       "      <td>1.458644e+06</td>\n",
       "      <td>1.458644e+06</td>\n",
       "    </tr>\n",
       "    <tr>\n",
       "      <th>mean</th>\n",
       "      <td>1.534950e+00</td>\n",
       "      <td>1.664530e+00</td>\n",
       "      <td>-7.397349e+01</td>\n",
       "      <td>4.075092e+01</td>\n",
       "      <td>-7.397342e+01</td>\n",
       "      <td>4.075180e+01</td>\n",
       "      <td>9.594923e+02</td>\n",
       "    </tr>\n",
       "    <tr>\n",
       "      <th>std</th>\n",
       "      <td>4.987772e-01</td>\n",
       "      <td>1.314242e+00</td>\n",
       "      <td>7.090186e-02</td>\n",
       "      <td>3.288119e-02</td>\n",
       "      <td>7.064327e-02</td>\n",
       "      <td>3.589056e-02</td>\n",
       "      <td>5.237432e+03</td>\n",
       "    </tr>\n",
       "    <tr>\n",
       "      <th>min</th>\n",
       "      <td>1.000000e+00</td>\n",
       "      <td>0.000000e+00</td>\n",
       "      <td>-1.219333e+02</td>\n",
       "      <td>3.435970e+01</td>\n",
       "      <td>-1.219333e+02</td>\n",
       "      <td>3.218114e+01</td>\n",
       "      <td>1.000000e+00</td>\n",
       "    </tr>\n",
       "    <tr>\n",
       "      <th>25%</th>\n",
       "      <td>1.000000e+00</td>\n",
       "      <td>1.000000e+00</td>\n",
       "      <td>-7.399187e+01</td>\n",
       "      <td>4.073735e+01</td>\n",
       "      <td>-7.399133e+01</td>\n",
       "      <td>4.073588e+01</td>\n",
       "      <td>3.970000e+02</td>\n",
       "    </tr>\n",
       "    <tr>\n",
       "      <th>50%</th>\n",
       "      <td>2.000000e+00</td>\n",
       "      <td>1.000000e+00</td>\n",
       "      <td>-7.398174e+01</td>\n",
       "      <td>4.075410e+01</td>\n",
       "      <td>-7.397975e+01</td>\n",
       "      <td>4.075452e+01</td>\n",
       "      <td>6.620000e+02</td>\n",
       "    </tr>\n",
       "    <tr>\n",
       "      <th>75%</th>\n",
       "      <td>2.000000e+00</td>\n",
       "      <td>2.000000e+00</td>\n",
       "      <td>-7.396733e+01</td>\n",
       "      <td>4.076836e+01</td>\n",
       "      <td>-7.396301e+01</td>\n",
       "      <td>4.076981e+01</td>\n",
       "      <td>1.075000e+03</td>\n",
       "    </tr>\n",
       "    <tr>\n",
       "      <th>max</th>\n",
       "      <td>2.000000e+00</td>\n",
       "      <td>9.000000e+00</td>\n",
       "      <td>-6.133553e+01</td>\n",
       "      <td>5.188108e+01</td>\n",
       "      <td>-6.133553e+01</td>\n",
       "      <td>4.392103e+01</td>\n",
       "      <td>3.526282e+06</td>\n",
       "    </tr>\n",
       "  </tbody>\n",
       "</table>\n",
       "</div>"
      ],
      "text/plain": [
       "          vendor_id  passenger_count  pickup_longitude  pickup_latitude  \\\n",
       "count  1.458644e+06     1.458644e+06      1.458644e+06     1.458644e+06   \n",
       "mean   1.534950e+00     1.664530e+00     -7.397349e+01     4.075092e+01   \n",
       "std    4.987772e-01     1.314242e+00      7.090186e-02     3.288119e-02   \n",
       "min    1.000000e+00     0.000000e+00     -1.219333e+02     3.435970e+01   \n",
       "25%    1.000000e+00     1.000000e+00     -7.399187e+01     4.073735e+01   \n",
       "50%    2.000000e+00     1.000000e+00     -7.398174e+01     4.075410e+01   \n",
       "75%    2.000000e+00     2.000000e+00     -7.396733e+01     4.076836e+01   \n",
       "max    2.000000e+00     9.000000e+00     -6.133553e+01     5.188108e+01   \n",
       "\n",
       "       dropoff_longitude  dropoff_latitude  trip_duration  \n",
       "count       1.458644e+06      1.458644e+06   1.458644e+06  \n",
       "mean       -7.397342e+01      4.075180e+01   9.594923e+02  \n",
       "std         7.064327e-02      3.589056e-02   5.237432e+03  \n",
       "min        -1.219333e+02      3.218114e+01   1.000000e+00  \n",
       "25%        -7.399133e+01      4.073588e+01   3.970000e+02  \n",
       "50%        -7.397975e+01      4.075452e+01   6.620000e+02  \n",
       "75%        -7.396301e+01      4.076981e+01   1.075000e+03  \n",
       "max        -6.133553e+01      4.392103e+01   3.526282e+06  "
      ]
     },
     "execution_count": 11,
     "metadata": {},
     "output_type": "execute_result"
    }
   ],
   "source": [
    "data.describe()"
   ]
  },
  {
   "cell_type": "code",
   "execution_count": 12,
   "metadata": {},
   "outputs": [
    {
     "data": {
      "text/plain": [
       "id                    0\n",
       "vendor_id             0\n",
       "pickup_datetime       0\n",
       "dropoff_datetime      0\n",
       "passenger_count       0\n",
       "pickup_longitude      0\n",
       "pickup_latitude       0\n",
       "dropoff_longitude     0\n",
       "dropoff_latitude      0\n",
       "store_and_fwd_flag    0\n",
       "trip_duration         0\n",
       "dtype: int64"
      ]
     },
     "execution_count": 12,
     "metadata": {},
     "output_type": "execute_result"
    }
   ],
   "source": [
    "data.isnull().sum()"
   ]
  },
  {
   "cell_type": "code",
   "execution_count": 13,
   "metadata": {},
   "outputs": [],
   "source": [
    "data=data.drop(columns='id',axis=1)"
   ]
  },
  {
   "cell_type": "code",
   "execution_count": 14,
   "metadata": {},
   "outputs": [
    {
     "data": {
      "text/plain": [
       "vendor_id\n",
       "2    780302\n",
       "1    678342\n",
       "Name: count, dtype: int64"
      ]
     },
     "execution_count": 14,
     "metadata": {},
     "output_type": "execute_result"
    }
   ],
   "source": [
    "data['vendor_id'].value_counts()"
   ]
  },
  {
   "cell_type": "code",
   "execution_count": 15,
   "metadata": {},
   "outputs": [
    {
     "data": {
      "text/plain": [
       "passenger_count\n",
       "1    1033540\n",
       "2     210318\n",
       "5      78088\n",
       "3      59896\n",
       "6      48333\n",
       "4      28404\n",
       "0         60\n",
       "7          3\n",
       "9          1\n",
       "8          1\n",
       "Name: count, dtype: int64"
      ]
     },
     "execution_count": 15,
     "metadata": {},
     "output_type": "execute_result"
    }
   ],
   "source": [
    "data['passenger_count'].value_counts()"
   ]
  },
  {
   "cell_type": "code",
   "execution_count": 16,
   "metadata": {},
   "outputs": [
    {
     "data": {
      "text/plain": [
       "store_and_fwd_flag\n",
       "N    1450599\n",
       "Y       8045\n",
       "Name: count, dtype: int64"
      ]
     },
     "execution_count": 16,
     "metadata": {},
     "output_type": "execute_result"
    }
   ],
   "source": [
    "data['store_and_fwd_flag'].value_counts()"
   ]
  },
  {
   "cell_type": "code",
   "execution_count": 17,
   "metadata": {},
   "outputs": [],
   "source": [
    "data['pickup_datetime'] = pd.to_datetime(data['pickup_datetime'])\n",
    "data['dropoff_datetime'] = pd.to_datetime(data['dropoff_datetime'])"
   ]
  },
  {
   "cell_type": "code",
   "execution_count": 18,
   "metadata": {},
   "outputs": [],
   "source": [
    "data[\"pickup_hour\"] = data['pickup_datetime'].dt.hour\n",
    "data[\"pickup_minute\"] = data['pickup_datetime'].dt.minute\n",
    "data[\"pickup_second\"] = data['pickup_datetime'].dt.second\n",
    "data[\"pickup_day_week\"] = data['pickup_datetime'].dt.dayofweek\n",
    "data[\"pickup_month\"] = data['pickup_datetime'].dt.month\n",
    "data[\"pickup_minute_of_the_day\"] = data[\"pickup_hour\"]*60+data[\"pickup_minute\"]"
   ]
  },
  {
   "cell_type": "code",
   "execution_count": 19,
   "metadata": {},
   "outputs": [],
   "source": [
    "data[\"dropoff_hour\"] = data['dropoff_datetime'].dt.hour\n",
    "data[\"dropoff_minute\"] = data['dropoff_datetime'].dt.minute\n",
    "data[\"dropoff_second\"] = data['dropoff_datetime'].dt.second\n",
    "data[\"dropoff_day_week\"] = data['dropoff_datetime'].dt.dayofweek\n",
    "data[\"dropoff_month\"] = data['dropoff_datetime'].dt.month\n",
    "data[\"dropoff_minute_of_the_day\"] = data[\"dropoff_hour\"]*60+data[\"dropoff_minute\"]"
   ]
  },
  {
   "cell_type": "code",
   "execution_count": 20,
   "metadata": {},
   "outputs": [
    {
     "data": {
      "text/html": [
       "<div>\n",
       "<style scoped>\n",
       "    .dataframe tbody tr th:only-of-type {\n",
       "        vertical-align: middle;\n",
       "    }\n",
       "\n",
       "    .dataframe tbody tr th {\n",
       "        vertical-align: top;\n",
       "    }\n",
       "\n",
       "    .dataframe thead th {\n",
       "        text-align: right;\n",
       "    }\n",
       "</style>\n",
       "<table border=\"1\" class=\"dataframe\">\n",
       "  <thead>\n",
       "    <tr style=\"text-align: right;\">\n",
       "      <th></th>\n",
       "      <th>vendor_id</th>\n",
       "      <th>pickup_datetime</th>\n",
       "      <th>dropoff_datetime</th>\n",
       "      <th>passenger_count</th>\n",
       "      <th>pickup_longitude</th>\n",
       "      <th>pickup_latitude</th>\n",
       "      <th>dropoff_longitude</th>\n",
       "      <th>dropoff_latitude</th>\n",
       "      <th>store_and_fwd_flag</th>\n",
       "      <th>trip_duration</th>\n",
       "      <th>...</th>\n",
       "      <th>pickup_second</th>\n",
       "      <th>pickup_day_week</th>\n",
       "      <th>pickup_month</th>\n",
       "      <th>pickup_minute_of_the_day</th>\n",
       "      <th>dropoff_hour</th>\n",
       "      <th>dropoff_minute</th>\n",
       "      <th>dropoff_second</th>\n",
       "      <th>dropoff_day_week</th>\n",
       "      <th>dropoff_month</th>\n",
       "      <th>dropoff_minute_of_the_day</th>\n",
       "    </tr>\n",
       "  </thead>\n",
       "  <tbody>\n",
       "    <tr>\n",
       "      <th>0</th>\n",
       "      <td>2</td>\n",
       "      <td>2016-03-14 17:24:55</td>\n",
       "      <td>2016-03-14 17:32:30</td>\n",
       "      <td>1</td>\n",
       "      <td>-73.982155</td>\n",
       "      <td>40.767937</td>\n",
       "      <td>-73.964630</td>\n",
       "      <td>40.765602</td>\n",
       "      <td>N</td>\n",
       "      <td>455</td>\n",
       "      <td>...</td>\n",
       "      <td>55</td>\n",
       "      <td>0</td>\n",
       "      <td>3</td>\n",
       "      <td>1044</td>\n",
       "      <td>17</td>\n",
       "      <td>32</td>\n",
       "      <td>30</td>\n",
       "      <td>0</td>\n",
       "      <td>3</td>\n",
       "      <td>1052</td>\n",
       "    </tr>\n",
       "    <tr>\n",
       "      <th>1</th>\n",
       "      <td>1</td>\n",
       "      <td>2016-06-12 00:43:35</td>\n",
       "      <td>2016-06-12 00:54:38</td>\n",
       "      <td>1</td>\n",
       "      <td>-73.980415</td>\n",
       "      <td>40.738564</td>\n",
       "      <td>-73.999481</td>\n",
       "      <td>40.731152</td>\n",
       "      <td>N</td>\n",
       "      <td>663</td>\n",
       "      <td>...</td>\n",
       "      <td>35</td>\n",
       "      <td>6</td>\n",
       "      <td>6</td>\n",
       "      <td>43</td>\n",
       "      <td>0</td>\n",
       "      <td>54</td>\n",
       "      <td>38</td>\n",
       "      <td>6</td>\n",
       "      <td>6</td>\n",
       "      <td>54</td>\n",
       "    </tr>\n",
       "    <tr>\n",
       "      <th>2</th>\n",
       "      <td>2</td>\n",
       "      <td>2016-01-19 11:35:24</td>\n",
       "      <td>2016-01-19 12:10:48</td>\n",
       "      <td>1</td>\n",
       "      <td>-73.979027</td>\n",
       "      <td>40.763939</td>\n",
       "      <td>-74.005333</td>\n",
       "      <td>40.710087</td>\n",
       "      <td>N</td>\n",
       "      <td>2124</td>\n",
       "      <td>...</td>\n",
       "      <td>24</td>\n",
       "      <td>1</td>\n",
       "      <td>1</td>\n",
       "      <td>695</td>\n",
       "      <td>12</td>\n",
       "      <td>10</td>\n",
       "      <td>48</td>\n",
       "      <td>1</td>\n",
       "      <td>1</td>\n",
       "      <td>730</td>\n",
       "    </tr>\n",
       "    <tr>\n",
       "      <th>3</th>\n",
       "      <td>2</td>\n",
       "      <td>2016-04-06 19:32:31</td>\n",
       "      <td>2016-04-06 19:39:40</td>\n",
       "      <td>1</td>\n",
       "      <td>-74.010040</td>\n",
       "      <td>40.719971</td>\n",
       "      <td>-74.012268</td>\n",
       "      <td>40.706718</td>\n",
       "      <td>N</td>\n",
       "      <td>429</td>\n",
       "      <td>...</td>\n",
       "      <td>31</td>\n",
       "      <td>2</td>\n",
       "      <td>4</td>\n",
       "      <td>1172</td>\n",
       "      <td>19</td>\n",
       "      <td>39</td>\n",
       "      <td>40</td>\n",
       "      <td>2</td>\n",
       "      <td>4</td>\n",
       "      <td>1179</td>\n",
       "    </tr>\n",
       "    <tr>\n",
       "      <th>4</th>\n",
       "      <td>2</td>\n",
       "      <td>2016-03-26 13:30:55</td>\n",
       "      <td>2016-03-26 13:38:10</td>\n",
       "      <td>1</td>\n",
       "      <td>-73.973053</td>\n",
       "      <td>40.793209</td>\n",
       "      <td>-73.972923</td>\n",
       "      <td>40.782520</td>\n",
       "      <td>N</td>\n",
       "      <td>435</td>\n",
       "      <td>...</td>\n",
       "      <td>55</td>\n",
       "      <td>5</td>\n",
       "      <td>3</td>\n",
       "      <td>810</td>\n",
       "      <td>13</td>\n",
       "      <td>38</td>\n",
       "      <td>10</td>\n",
       "      <td>5</td>\n",
       "      <td>3</td>\n",
       "      <td>818</td>\n",
       "    </tr>\n",
       "  </tbody>\n",
       "</table>\n",
       "<p>5 rows × 22 columns</p>\n",
       "</div>"
      ],
      "text/plain": [
       "   vendor_id     pickup_datetime    dropoff_datetime  passenger_count  \\\n",
       "0          2 2016-03-14 17:24:55 2016-03-14 17:32:30                1   \n",
       "1          1 2016-06-12 00:43:35 2016-06-12 00:54:38                1   \n",
       "2          2 2016-01-19 11:35:24 2016-01-19 12:10:48                1   \n",
       "3          2 2016-04-06 19:32:31 2016-04-06 19:39:40                1   \n",
       "4          2 2016-03-26 13:30:55 2016-03-26 13:38:10                1   \n",
       "\n",
       "   pickup_longitude  pickup_latitude  dropoff_longitude  dropoff_latitude  \\\n",
       "0        -73.982155        40.767937         -73.964630         40.765602   \n",
       "1        -73.980415        40.738564         -73.999481         40.731152   \n",
       "2        -73.979027        40.763939         -74.005333         40.710087   \n",
       "3        -74.010040        40.719971         -74.012268         40.706718   \n",
       "4        -73.973053        40.793209         -73.972923         40.782520   \n",
       "\n",
       "  store_and_fwd_flag  trip_duration  ...  pickup_second  pickup_day_week  \\\n",
       "0                  N            455  ...             55                0   \n",
       "1                  N            663  ...             35                6   \n",
       "2                  N           2124  ...             24                1   \n",
       "3                  N            429  ...             31                2   \n",
       "4                  N            435  ...             55                5   \n",
       "\n",
       "   pickup_month  pickup_minute_of_the_day  dropoff_hour  dropoff_minute  \\\n",
       "0             3                      1044            17              32   \n",
       "1             6                        43             0              54   \n",
       "2             1                       695            12              10   \n",
       "3             4                      1172            19              39   \n",
       "4             3                       810            13              38   \n",
       "\n",
       "   dropoff_second  dropoff_day_week  dropoff_month  dropoff_minute_of_the_day  \n",
       "0              30                 0              3                       1052  \n",
       "1              38                 6              6                         54  \n",
       "2              48                 1              1                        730  \n",
       "3              40                 2              4                       1179  \n",
       "4              10                 5              3                        818  \n",
       "\n",
       "[5 rows x 22 columns]"
      ]
     },
     "execution_count": 20,
     "metadata": {},
     "output_type": "execute_result"
    }
   ],
   "source": [
    "data.head()"
   ]
  },
  {
   "cell_type": "code",
   "execution_count": 21,
   "metadata": {},
   "outputs": [],
   "source": [
    "data.drop(columns=[\"pickup_datetime\", \"dropoff_datetime\"], axis=1, inplace=True)"
   ]
  },
  {
   "cell_type": "code",
   "execution_count": 22,
   "metadata": {},
   "outputs": [
    {
     "data": {
      "text/plain": [
       "trip_duration\n",
       "368      1624\n",
       "408      1584\n",
       "348      1582\n",
       "367      1581\n",
       "358      1577\n",
       "         ... \n",
       "7378        1\n",
       "83250       1\n",
       "6615        1\n",
       "34014       1\n",
       "6124        1\n",
       "Name: count, Length: 7417, dtype: int64"
      ]
     },
     "execution_count": 22,
     "metadata": {},
     "output_type": "execute_result"
    }
   ],
   "source": [
    "data[\"trip_duration\"].value_counts()"
   ]
  },
  {
   "cell_type": "code",
   "execution_count": 23,
   "metadata": {},
   "outputs": [
    {
     "name": "stdout",
     "output_type": "stream",
     "text": [
      "<class 'pandas.core.frame.DataFrame'>\n",
      "RangeIndex: 1458644 entries, 0 to 1458643\n",
      "Data columns (total 20 columns):\n",
      " #   Column                     Non-Null Count    Dtype  \n",
      "---  ------                     --------------    -----  \n",
      " 0   vendor_id                  1458644 non-null  int64  \n",
      " 1   passenger_count            1458644 non-null  int64  \n",
      " 2   pickup_longitude           1458644 non-null  float64\n",
      " 3   pickup_latitude            1458644 non-null  float64\n",
      " 4   dropoff_longitude          1458644 non-null  float64\n",
      " 5   dropoff_latitude           1458644 non-null  float64\n",
      " 6   store_and_fwd_flag         1458644 non-null  object \n",
      " 7   trip_duration              1458644 non-null  int64  \n",
      " 8   pickup_hour                1458644 non-null  int32  \n",
      " 9   pickup_minute              1458644 non-null  int32  \n",
      " 10  pickup_second              1458644 non-null  int32  \n",
      " 11  pickup_day_week            1458644 non-null  int32  \n",
      " 12  pickup_month               1458644 non-null  int32  \n",
      " 13  pickup_minute_of_the_day   1458644 non-null  int32  \n",
      " 14  dropoff_hour               1458644 non-null  int32  \n",
      " 15  dropoff_minute             1458644 non-null  int32  \n",
      " 16  dropoff_second             1458644 non-null  int32  \n",
      " 17  dropoff_day_week           1458644 non-null  int32  \n",
      " 18  dropoff_month              1458644 non-null  int32  \n",
      " 19  dropoff_minute_of_the_day  1458644 non-null  int32  \n",
      "dtypes: float64(4), int32(12), int64(3), object(1)\n",
      "memory usage: 155.8+ MB\n"
     ]
    }
   ],
   "source": [
    "data.info()"
   ]
  },
  {
   "cell_type": "code",
   "execution_count": 24,
   "metadata": {},
   "outputs": [],
   "source": [
    "cat_columns = data.columns[data.dtypes=='object']\n",
    "num_columns = data.columns[(data.dtypes=='float') | (data.dtypes=='int')]"
   ]
  },
  {
   "cell_type": "code",
   "execution_count": 25,
   "metadata": {},
   "outputs": [
    {
     "data": {
      "text/plain": [
       "Index(['pickup_longitude', 'pickup_latitude', 'dropoff_longitude',\n",
       "       'dropoff_latitude', 'pickup_hour', 'pickup_minute', 'pickup_second',\n",
       "       'pickup_day_week', 'pickup_month', 'pickup_minute_of_the_day',\n",
       "       'dropoff_hour', 'dropoff_minute', 'dropoff_second', 'dropoff_day_week',\n",
       "       'dropoff_month', 'dropoff_minute_of_the_day'],\n",
       "      dtype='object')"
      ]
     },
     "execution_count": 25,
     "metadata": {},
     "output_type": "execute_result"
    }
   ],
   "source": [
    "num_columns"
   ]
  },
  {
   "cell_type": "code",
   "execution_count": 26,
   "metadata": {},
   "outputs": [],
   "source": [
    "X= data.drop(columns='trip_duration',axis=1)\n",
    "y = data.trip_duration"
   ]
  },
  {
   "cell_type": "code",
   "execution_count": 27,
   "metadata": {},
   "outputs": [
    {
     "data": {
      "text/html": [
       "<div>\n",
       "<style scoped>\n",
       "    .dataframe tbody tr th:only-of-type {\n",
       "        vertical-align: middle;\n",
       "    }\n",
       "\n",
       "    .dataframe tbody tr th {\n",
       "        vertical-align: top;\n",
       "    }\n",
       "\n",
       "    .dataframe thead th {\n",
       "        text-align: right;\n",
       "    }\n",
       "</style>\n",
       "<table border=\"1\" class=\"dataframe\">\n",
       "  <thead>\n",
       "    <tr style=\"text-align: right;\">\n",
       "      <th></th>\n",
       "      <th>vendor_id</th>\n",
       "      <th>passenger_count</th>\n",
       "      <th>pickup_longitude</th>\n",
       "      <th>pickup_latitude</th>\n",
       "      <th>dropoff_longitude</th>\n",
       "      <th>dropoff_latitude</th>\n",
       "      <th>store_and_fwd_flag</th>\n",
       "      <th>pickup_hour</th>\n",
       "      <th>pickup_minute</th>\n",
       "      <th>pickup_second</th>\n",
       "      <th>pickup_day_week</th>\n",
       "      <th>pickup_month</th>\n",
       "      <th>pickup_minute_of_the_day</th>\n",
       "      <th>dropoff_hour</th>\n",
       "      <th>dropoff_minute</th>\n",
       "      <th>dropoff_second</th>\n",
       "      <th>dropoff_day_week</th>\n",
       "      <th>dropoff_month</th>\n",
       "      <th>dropoff_minute_of_the_day</th>\n",
       "    </tr>\n",
       "  </thead>\n",
       "  <tbody>\n",
       "    <tr>\n",
       "      <th>0</th>\n",
       "      <td>2</td>\n",
       "      <td>1</td>\n",
       "      <td>-73.982155</td>\n",
       "      <td>40.767937</td>\n",
       "      <td>-73.964630</td>\n",
       "      <td>40.765602</td>\n",
       "      <td>N</td>\n",
       "      <td>17</td>\n",
       "      <td>24</td>\n",
       "      <td>55</td>\n",
       "      <td>0</td>\n",
       "      <td>3</td>\n",
       "      <td>1044</td>\n",
       "      <td>17</td>\n",
       "      <td>32</td>\n",
       "      <td>30</td>\n",
       "      <td>0</td>\n",
       "      <td>3</td>\n",
       "      <td>1052</td>\n",
       "    </tr>\n",
       "    <tr>\n",
       "      <th>1</th>\n",
       "      <td>1</td>\n",
       "      <td>1</td>\n",
       "      <td>-73.980415</td>\n",
       "      <td>40.738564</td>\n",
       "      <td>-73.999481</td>\n",
       "      <td>40.731152</td>\n",
       "      <td>N</td>\n",
       "      <td>0</td>\n",
       "      <td>43</td>\n",
       "      <td>35</td>\n",
       "      <td>6</td>\n",
       "      <td>6</td>\n",
       "      <td>43</td>\n",
       "      <td>0</td>\n",
       "      <td>54</td>\n",
       "      <td>38</td>\n",
       "      <td>6</td>\n",
       "      <td>6</td>\n",
       "      <td>54</td>\n",
       "    </tr>\n",
       "    <tr>\n",
       "      <th>2</th>\n",
       "      <td>2</td>\n",
       "      <td>1</td>\n",
       "      <td>-73.979027</td>\n",
       "      <td>40.763939</td>\n",
       "      <td>-74.005333</td>\n",
       "      <td>40.710087</td>\n",
       "      <td>N</td>\n",
       "      <td>11</td>\n",
       "      <td>35</td>\n",
       "      <td>24</td>\n",
       "      <td>1</td>\n",
       "      <td>1</td>\n",
       "      <td>695</td>\n",
       "      <td>12</td>\n",
       "      <td>10</td>\n",
       "      <td>48</td>\n",
       "      <td>1</td>\n",
       "      <td>1</td>\n",
       "      <td>730</td>\n",
       "    </tr>\n",
       "    <tr>\n",
       "      <th>3</th>\n",
       "      <td>2</td>\n",
       "      <td>1</td>\n",
       "      <td>-74.010040</td>\n",
       "      <td>40.719971</td>\n",
       "      <td>-74.012268</td>\n",
       "      <td>40.706718</td>\n",
       "      <td>N</td>\n",
       "      <td>19</td>\n",
       "      <td>32</td>\n",
       "      <td>31</td>\n",
       "      <td>2</td>\n",
       "      <td>4</td>\n",
       "      <td>1172</td>\n",
       "      <td>19</td>\n",
       "      <td>39</td>\n",
       "      <td>40</td>\n",
       "      <td>2</td>\n",
       "      <td>4</td>\n",
       "      <td>1179</td>\n",
       "    </tr>\n",
       "    <tr>\n",
       "      <th>4</th>\n",
       "      <td>2</td>\n",
       "      <td>1</td>\n",
       "      <td>-73.973053</td>\n",
       "      <td>40.793209</td>\n",
       "      <td>-73.972923</td>\n",
       "      <td>40.782520</td>\n",
       "      <td>N</td>\n",
       "      <td>13</td>\n",
       "      <td>30</td>\n",
       "      <td>55</td>\n",
       "      <td>5</td>\n",
       "      <td>3</td>\n",
       "      <td>810</td>\n",
       "      <td>13</td>\n",
       "      <td>38</td>\n",
       "      <td>10</td>\n",
       "      <td>5</td>\n",
       "      <td>3</td>\n",
       "      <td>818</td>\n",
       "    </tr>\n",
       "  </tbody>\n",
       "</table>\n",
       "</div>"
      ],
      "text/plain": [
       "   vendor_id  passenger_count  pickup_longitude  pickup_latitude  \\\n",
       "0          2                1        -73.982155        40.767937   \n",
       "1          1                1        -73.980415        40.738564   \n",
       "2          2                1        -73.979027        40.763939   \n",
       "3          2                1        -74.010040        40.719971   \n",
       "4          2                1        -73.973053        40.793209   \n",
       "\n",
       "   dropoff_longitude  dropoff_latitude store_and_fwd_flag  pickup_hour  \\\n",
       "0         -73.964630         40.765602                  N           17   \n",
       "1         -73.999481         40.731152                  N            0   \n",
       "2         -74.005333         40.710087                  N           11   \n",
       "3         -74.012268         40.706718                  N           19   \n",
       "4         -73.972923         40.782520                  N           13   \n",
       "\n",
       "   pickup_minute  pickup_second  pickup_day_week  pickup_month  \\\n",
       "0             24             55                0             3   \n",
       "1             43             35                6             6   \n",
       "2             35             24                1             1   \n",
       "3             32             31                2             4   \n",
       "4             30             55                5             3   \n",
       "\n",
       "   pickup_minute_of_the_day  dropoff_hour  dropoff_minute  dropoff_second  \\\n",
       "0                      1044            17              32              30   \n",
       "1                        43             0              54              38   \n",
       "2                       695            12              10              48   \n",
       "3                      1172            19              39              40   \n",
       "4                       810            13              38              10   \n",
       "\n",
       "   dropoff_day_week  dropoff_month  dropoff_minute_of_the_day  \n",
       "0                 0              3                       1052  \n",
       "1                 6              6                         54  \n",
       "2                 1              1                        730  \n",
       "3                 2              4                       1179  \n",
       "4                 5              3                        818  "
      ]
     },
     "execution_count": 27,
     "metadata": {},
     "output_type": "execute_result"
    }
   ],
   "source": [
    "X.head()"
   ]
  },
  {
   "cell_type": "code",
   "execution_count": 28,
   "metadata": {},
   "outputs": [
    {
     "data": {
      "text/plain": [
       "0     455\n",
       "1     663\n",
       "2    2124\n",
       "3     429\n",
       "4     435\n",
       "Name: trip_duration, dtype: int64"
      ]
     },
     "execution_count": 28,
     "metadata": {},
     "output_type": "execute_result"
    }
   ],
   "source": [
    "y.head()"
   ]
  },
  {
   "cell_type": "code",
   "execution_count": 43,
   "metadata": {},
   "outputs": [
    {
     "data": {
      "text/plain": [
       "((1021050, 19), (437594, 19), (1021050,), (437594,))"
      ]
     },
     "execution_count": 43,
     "metadata": {},
     "output_type": "execute_result"
    }
   ],
   "source": [
    "X_train,X_test, y_train, y_test = train_test_split(X,y,test_size=0.3, random_state=42)\n",
    "X_train.shape, X_test.shape, y_train.shape, y_test.shape"
   ]
  },
  {
   "cell_type": "code",
   "execution_count": 44,
   "metadata": {},
   "outputs": [],
   "source": [
    "preprocessor = ColumnTransformer(transformers=[\n",
    "    ('ohe', OneHotEncoder(drop='first',dtype=np.int32),cat_columns),\n",
    "    ('ss',StandardScaler(),num_columns)\n",
    "], remainder='passthrough'\n",
    ")"
   ]
  },
  {
   "cell_type": "code",
   "execution_count": 45,
   "metadata": {},
   "outputs": [],
   "source": [
    "X_train= preprocessor.fit_transform(X_train)\n",
    "X_test = preprocessor.transform(X_test)"
   ]
  },
  {
   "cell_type": "code",
   "execution_count": 46,
   "metadata": {},
   "outputs": [
    {
     "data": {
      "text/plain": [
       "array(['ohe__store_and_fwd_flag_Y', 'ss__pickup_longitude',\n",
       "       'ss__pickup_latitude', 'ss__dropoff_longitude',\n",
       "       'ss__dropoff_latitude', 'ss__pickup_hour', 'ss__pickup_minute',\n",
       "       'ss__pickup_second', 'ss__pickup_day_week', 'ss__pickup_month',\n",
       "       'ss__pickup_minute_of_the_day', 'ss__dropoff_hour',\n",
       "       'ss__dropoff_minute', 'ss__dropoff_second', 'ss__dropoff_day_week',\n",
       "       'ss__dropoff_month', 'ss__dropoff_minute_of_the_day',\n",
       "       'remainder__vendor_id', 'remainder__passenger_count'], dtype=object)"
      ]
     },
     "execution_count": 46,
     "metadata": {},
     "output_type": "execute_result"
    }
   ],
   "source": [
    "preprocessor.get_feature_names_out()"
   ]
  },
  {
   "cell_type": "code",
   "execution_count": 47,
   "metadata": {},
   "outputs": [],
   "source": [
    "def evaluate_model(true, predict):\n",
    "    r2score = r2_score(true,predict)\n",
    "    mse = mean_squared_error(true, predict)\n",
    "    mae = mean_absolute_error(true, predict)\n",
    "    rmse = np.sqrt(mse)\n",
    "\n",
    "    return r2score, mse, mae, rmse"
   ]
  },
  {
   "cell_type": "code",
   "execution_count": 48,
   "metadata": {},
   "outputs": [
    {
     "data": {
      "text/plain": [
       "(1021050, 19)"
      ]
     },
     "execution_count": 48,
     "metadata": {},
     "output_type": "execute_result"
    }
   ],
   "source": [
    "X_train.shape"
   ]
  },
  {
   "cell_type": "code",
   "execution_count": 50,
   "metadata": {},
   "outputs": [],
   "source": [
    "models = {\n",
    "        'linearRegression': LinearRegression(),\n",
    "        'ridge': Ridge(),\n",
    "        'lasso': Lasso(),\n",
    "        'elasticNet': ElasticNet(),\n",
    "        'decisionTreeRegressor': DecisionTreeRegressor(),\n",
    "        # 'randomForestRegressor': RandomForestRegressor(),\n",
    "        # 'baggingRegressor': BaggingRegressor(),\n",
    "        # 'adaBoostRegressor': AdaBoostRegressor(),\n",
    "        # 'gradientBoostingRegressor': GradientBoostingRegressor()\n",
    "}"
   ]
  },
  {
   "cell_type": "code",
   "execution_count": 52,
   "metadata": {},
   "outputs": [],
   "source": [
    "params = {\n",
    "        'linearRegression': {},\n",
    "        'ridge': {\n",
    "            'alpha': [1.0,0.5,1.5,0.8],\n",
    "            'max_iter': [1000,800,900,1500]\n",
    "        },\n",
    "        'lasso': {\n",
    "            'alpha': [1.0,0.5,1.5,0.8],\n",
    "            'max_iter': [1000,800,900,1500]\n",
    "        },\n",
    "        'elasticNet': {\n",
    "            'alpha': [1.0,0.5,1.5,0.8],\n",
    "            'max_iter': [1000,800,900,1500],\n",
    "            'l1_ratio': [0.5, 0.8,0.2]\n",
    "        },\n",
    "        'decisionTreeRegressor': {\n",
    "            'criterion': ['squared_error', 'friedman_mse', 'absolute_error', 'poisson'],\n",
    "            'splitter': ['best', 'random'],\n",
    "            'max_features': [0.5, 0.25]\n",
    "        },\n",
    "        'randomForestRegressor': {\n",
    "            'criterion': ['squared_error', 'friedman_mse', 'absolute_error', 'poisson'],\n",
    "            'max_features': [0.5, 0.25],\n",
    "            'n_estimators': [8,64,128,256,512]\n",
    "        },\n",
    "        'baggingRegressor': {\n",
    "            \"base_estimator\": [\"LinearRegression()\", \"Ridge()\", \"Lasso()\", \"DecisionTreeRegressor()\"],\n",
    "            \"n_estimators\": [500, 100, 250],\n",
    "            \"max_samples\": [0.25, 0.50],\n",
    "            \"bootstrap\": True,\n",
    "            \"max_features\": [0.5, 0.25],\n",
    "            \"bootstrap_features\": True,\n",
    "            \"random_state\": 42\n",
    "        },\n",
    "        'adaBoostRegressor': {\n",
    "            'learning_rate': [.1,.01,0.5,.001],\n",
    "            'loss': ['linear','square','exponential'],\n",
    "            'n_estimators': [8,64,128,256,512]\n",
    "        },\n",
    "        'gradientBoostingRegressor': {\n",
    "            'loss': ['squared_error', 'absolute_error', 'huber', 'quantile'],\n",
    "            'learning_rate': [.1,.01,0.5,.001],\n",
    "            'n_estimators': [8,64,128,256,512],\n",
    "            'subsample': [0.6,0.75,0.8,0.9],\n",
    "            'max_features': [0.5, 0.25],\n",
    "            'criterion': ['squared_error', 'friedman_mse']\n",
    "        }\n",
    "\n",
    "    }"
   ]
  },
  {
   "cell_type": "code",
   "execution_count": 56,
   "metadata": {},
   "outputs": [
    {
     "name": "stdout",
     "output_type": "stream",
     "text": [
      "training.... LinearRegression()\n",
      "{'linearRegression': {'r2_train': 0.009231708220534873, 'r2_test': 0.002918975672299151, 'adj_r2': 0.0028756811907664215}}\n",
      "training.... Ridge(alpha=1.5, max_iter=1000)\n",
      "{'linearRegression': {'r2_train': 0.009231708220534873, 'r2_test': 0.002918975672299151, 'adj_r2': 0.0028756811907664215}, 'ridge': {'r2_train': 0.009227643103983718, 'r2_test': 0.0035821208874600163, 'adj_r2': 0.00353885520050623}}\n",
      "training.... Lasso()\n"
     ]
    },
    {
     "name": "stderr",
     "output_type": "stream",
     "text": [
      "c:\\Users\\rkgst\\anaconda3\\Lib\\site-packages\\sklearn\\linear_model\\_coordinate_descent.py:678: ConvergenceWarning: Objective did not converge. You might want to increase the number of iterations, check the scale of the features or consider increasing regularisation. Duality gap: 1.057e+13, tolerance: 3.365e+09\n",
      "  model = cd_fast.enet_coordinate_descent(\n",
      "c:\\Users\\rkgst\\anaconda3\\Lib\\site-packages\\sklearn\\linear_model\\_coordinate_descent.py:678: ConvergenceWarning: Objective did not converge. You might want to increase the number of iterations, check the scale of the features or consider increasing regularisation. Duality gap: 8.966e+12, tolerance: 2.843e+09\n",
      "  model = cd_fast.enet_coordinate_descent(\n",
      "c:\\Users\\rkgst\\anaconda3\\Lib\\site-packages\\sklearn\\linear_model\\_coordinate_descent.py:678: ConvergenceWarning: Objective did not converge. You might want to increase the number of iterations, check the scale of the features or consider increasing regularisation. Duality gap: 1.060e+13, tolerance: 3.338e+09\n",
      "  model = cd_fast.enet_coordinate_descent(\n",
      "c:\\Users\\rkgst\\anaconda3\\Lib\\site-packages\\sklearn\\linear_model\\_coordinate_descent.py:678: ConvergenceWarning: Objective did not converge. You might want to increase the number of iterations, check the scale of the features or consider increasing regularisation. Duality gap: 1.550e+10, tolerance: 1.690e+09\n",
      "  model = cd_fast.enet_coordinate_descent(\n",
      "c:\\Users\\rkgst\\anaconda3\\Lib\\site-packages\\sklearn\\linear_model\\_coordinate_descent.py:678: ConvergenceWarning: Objective did not converge. You might want to increase the number of iterations, check the scale of the features or consider increasing regularisation. Duality gap: 9.329e+12, tolerance: 2.981e+09\n",
      "  model = cd_fast.enet_coordinate_descent(\n",
      "c:\\Users\\rkgst\\anaconda3\\Lib\\site-packages\\sklearn\\linear_model\\_coordinate_descent.py:678: ConvergenceWarning: Objective did not converge. You might want to increase the number of iterations, check the scale of the features or consider increasing regularisation. Duality gap: 1.068e+13, tolerance: 3.365e+09\n",
      "  model = cd_fast.enet_coordinate_descent(\n",
      "c:\\Users\\rkgst\\anaconda3\\Lib\\site-packages\\sklearn\\linear_model\\_coordinate_descent.py:678: ConvergenceWarning: Objective did not converge. You might want to increase the number of iterations, check the scale of the features or consider increasing regularisation. Duality gap: 9.056e+12, tolerance: 2.843e+09\n",
      "  model = cd_fast.enet_coordinate_descent(\n",
      "c:\\Users\\rkgst\\anaconda3\\Lib\\site-packages\\sklearn\\linear_model\\_coordinate_descent.py:678: ConvergenceWarning: Objective did not converge. You might want to increase the number of iterations, check the scale of the features or consider increasing regularisation. Duality gap: 1.071e+13, tolerance: 3.338e+09\n",
      "  model = cd_fast.enet_coordinate_descent(\n",
      "c:\\Users\\rkgst\\anaconda3\\Lib\\site-packages\\sklearn\\linear_model\\_coordinate_descent.py:678: ConvergenceWarning: Objective did not converge. You might want to increase the number of iterations, check the scale of the features or consider increasing regularisation. Duality gap: 1.624e+10, tolerance: 1.690e+09\n",
      "  model = cd_fast.enet_coordinate_descent(\n",
      "c:\\Users\\rkgst\\anaconda3\\Lib\\site-packages\\sklearn\\linear_model\\_coordinate_descent.py:678: ConvergenceWarning: Objective did not converge. You might want to increase the number of iterations, check the scale of the features or consider increasing regularisation. Duality gap: 9.426e+12, tolerance: 2.981e+09\n",
      "  model = cd_fast.enet_coordinate_descent(\n",
      "c:\\Users\\rkgst\\anaconda3\\Lib\\site-packages\\sklearn\\linear_model\\_coordinate_descent.py:678: ConvergenceWarning: Objective did not converge. You might want to increase the number of iterations, check the scale of the features or consider increasing regularisation. Duality gap: 1.062e+13, tolerance: 3.365e+09\n",
      "  model = cd_fast.enet_coordinate_descent(\n",
      "c:\\Users\\rkgst\\anaconda3\\Lib\\site-packages\\sklearn\\linear_model\\_coordinate_descent.py:678: ConvergenceWarning: Objective did not converge. You might want to increase the number of iterations, check the scale of the features or consider increasing regularisation. Duality gap: 9.011e+12, tolerance: 2.843e+09\n",
      "  model = cd_fast.enet_coordinate_descent(\n",
      "c:\\Users\\rkgst\\anaconda3\\Lib\\site-packages\\sklearn\\linear_model\\_coordinate_descent.py:678: ConvergenceWarning: Objective did not converge. You might want to increase the number of iterations, check the scale of the features or consider increasing regularisation. Duality gap: 1.065e+13, tolerance: 3.338e+09\n",
      "  model = cd_fast.enet_coordinate_descent(\n",
      "c:\\Users\\rkgst\\anaconda3\\Lib\\site-packages\\sklearn\\linear_model\\_coordinate_descent.py:678: ConvergenceWarning: Objective did not converge. You might want to increase the number of iterations, check the scale of the features or consider increasing regularisation. Duality gap: 1.587e+10, tolerance: 1.690e+09\n",
      "  model = cd_fast.enet_coordinate_descent(\n",
      "c:\\Users\\rkgst\\anaconda3\\Lib\\site-packages\\sklearn\\linear_model\\_coordinate_descent.py:678: ConvergenceWarning: Objective did not converge. You might want to increase the number of iterations, check the scale of the features or consider increasing regularisation. Duality gap: 9.377e+12, tolerance: 2.981e+09\n",
      "  model = cd_fast.enet_coordinate_descent(\n",
      "c:\\Users\\rkgst\\anaconda3\\Lib\\site-packages\\sklearn\\linear_model\\_coordinate_descent.py:678: ConvergenceWarning: Objective did not converge. You might want to increase the number of iterations, check the scale of the features or consider increasing regularisation. Duality gap: 1.030e+13, tolerance: 3.365e+09\n",
      "  model = cd_fast.enet_coordinate_descent(\n",
      "c:\\Users\\rkgst\\anaconda3\\Lib\\site-packages\\sklearn\\linear_model\\_coordinate_descent.py:678: ConvergenceWarning: Objective did not converge. You might want to increase the number of iterations, check the scale of the features or consider increasing regularisation. Duality gap: 8.737e+12, tolerance: 2.843e+09\n",
      "  model = cd_fast.enet_coordinate_descent(\n",
      "c:\\Users\\rkgst\\anaconda3\\Lib\\site-packages\\sklearn\\linear_model\\_coordinate_descent.py:678: ConvergenceWarning: Objective did not converge. You might want to increase the number of iterations, check the scale of the features or consider increasing regularisation. Duality gap: 1.034e+13, tolerance: 3.338e+09\n",
      "  model = cd_fast.enet_coordinate_descent(\n",
      "c:\\Users\\rkgst\\anaconda3\\Lib\\site-packages\\sklearn\\linear_model\\_coordinate_descent.py:678: ConvergenceWarning: Objective did not converge. You might want to increase the number of iterations, check the scale of the features or consider increasing regularisation. Duality gap: 1.380e+10, tolerance: 1.690e+09\n",
      "  model = cd_fast.enet_coordinate_descent(\n",
      "c:\\Users\\rkgst\\anaconda3\\Lib\\site-packages\\sklearn\\linear_model\\_coordinate_descent.py:678: ConvergenceWarning: Objective did not converge. You might want to increase the number of iterations, check the scale of the features or consider increasing regularisation. Duality gap: 9.083e+12, tolerance: 2.981e+09\n",
      "  model = cd_fast.enet_coordinate_descent(\n",
      "c:\\Users\\rkgst\\anaconda3\\Lib\\site-packages\\sklearn\\linear_model\\_coordinate_descent.py:678: ConvergenceWarning: Objective did not converge. You might want to increase the number of iterations, check the scale of the features or consider increasing regularisation. Duality gap: 1.372e+13, tolerance: 3.365e+09\n",
      "  model = cd_fast.enet_coordinate_descent(\n",
      "c:\\Users\\rkgst\\anaconda3\\Lib\\site-packages\\sklearn\\linear_model\\_coordinate_descent.py:678: ConvergenceWarning: Objective did not converge. You might want to increase the number of iterations, check the scale of the features or consider increasing regularisation. Duality gap: 1.160e+13, tolerance: 2.843e+09\n",
      "  model = cd_fast.enet_coordinate_descent(\n",
      "c:\\Users\\rkgst\\anaconda3\\Lib\\site-packages\\sklearn\\linear_model\\_coordinate_descent.py:678: ConvergenceWarning: Objective did not converge. You might want to increase the number of iterations, check the scale of the features or consider increasing regularisation. Duality gap: 1.367e+13, tolerance: 3.338e+09\n",
      "  model = cd_fast.enet_coordinate_descent(\n",
      "c:\\Users\\rkgst\\anaconda3\\Lib\\site-packages\\sklearn\\linear_model\\_coordinate_descent.py:678: ConvergenceWarning: Objective did not converge. You might want to increase the number of iterations, check the scale of the features or consider increasing regularisation. Duality gap: 3.572e+12, tolerance: 1.690e+09\n",
      "  model = cd_fast.enet_coordinate_descent(\n",
      "c:\\Users\\rkgst\\anaconda3\\Lib\\site-packages\\sklearn\\linear_model\\_coordinate_descent.py:678: ConvergenceWarning: Objective did not converge. You might want to increase the number of iterations, check the scale of the features or consider increasing regularisation. Duality gap: 1.213e+13, tolerance: 2.981e+09\n",
      "  model = cd_fast.enet_coordinate_descent(\n",
      "c:\\Users\\rkgst\\anaconda3\\Lib\\site-packages\\sklearn\\linear_model\\_coordinate_descent.py:678: ConvergenceWarning: Objective did not converge. You might want to increase the number of iterations, check the scale of the features or consider increasing regularisation. Duality gap: 1.379e+13, tolerance: 3.365e+09\n",
      "  model = cd_fast.enet_coordinate_descent(\n",
      "c:\\Users\\rkgst\\anaconda3\\Lib\\site-packages\\sklearn\\linear_model\\_coordinate_descent.py:678: ConvergenceWarning: Objective did not converge. You might want to increase the number of iterations, check the scale of the features or consider increasing regularisation. Duality gap: 1.166e+13, tolerance: 2.843e+09\n",
      "  model = cd_fast.enet_coordinate_descent(\n",
      "c:\\Users\\rkgst\\anaconda3\\Lib\\site-packages\\sklearn\\linear_model\\_coordinate_descent.py:678: ConvergenceWarning: Objective did not converge. You might want to increase the number of iterations, check the scale of the features or consider increasing regularisation. Duality gap: 1.373e+13, tolerance: 3.338e+09\n",
      "  model = cd_fast.enet_coordinate_descent(\n",
      "c:\\Users\\rkgst\\anaconda3\\Lib\\site-packages\\sklearn\\linear_model\\_coordinate_descent.py:678: ConvergenceWarning: Objective did not converge. You might want to increase the number of iterations, check the scale of the features or consider increasing regularisation. Duality gap: 3.631e+12, tolerance: 1.690e+09\n",
      "  model = cd_fast.enet_coordinate_descent(\n",
      "c:\\Users\\rkgst\\anaconda3\\Lib\\site-packages\\sklearn\\linear_model\\_coordinate_descent.py:678: ConvergenceWarning: Objective did not converge. You might want to increase the number of iterations, check the scale of the features or consider increasing regularisation. Duality gap: 1.219e+13, tolerance: 2.981e+09\n",
      "  model = cd_fast.enet_coordinate_descent(\n",
      "c:\\Users\\rkgst\\anaconda3\\Lib\\site-packages\\sklearn\\linear_model\\_coordinate_descent.py:678: ConvergenceWarning: Objective did not converge. You might want to increase the number of iterations, check the scale of the features or consider increasing regularisation. Duality gap: 1.375e+13, tolerance: 3.365e+09\n",
      "  model = cd_fast.enet_coordinate_descent(\n",
      "c:\\Users\\rkgst\\anaconda3\\Lib\\site-packages\\sklearn\\linear_model\\_coordinate_descent.py:678: ConvergenceWarning: Objective did not converge. You might want to increase the number of iterations, check the scale of the features or consider increasing regularisation. Duality gap: 1.163e+13, tolerance: 2.843e+09\n",
      "  model = cd_fast.enet_coordinate_descent(\n",
      "c:\\Users\\rkgst\\anaconda3\\Lib\\site-packages\\sklearn\\linear_model\\_coordinate_descent.py:678: ConvergenceWarning: Objective did not converge. You might want to increase the number of iterations, check the scale of the features or consider increasing regularisation. Duality gap: 1.370e+13, tolerance: 3.338e+09\n",
      "  model = cd_fast.enet_coordinate_descent(\n",
      "c:\\Users\\rkgst\\anaconda3\\Lib\\site-packages\\sklearn\\linear_model\\_coordinate_descent.py:678: ConvergenceWarning: Objective did not converge. You might want to increase the number of iterations, check the scale of the features or consider increasing regularisation. Duality gap: 3.602e+12, tolerance: 1.690e+09\n",
      "  model = cd_fast.enet_coordinate_descent(\n",
      "c:\\Users\\rkgst\\anaconda3\\Lib\\site-packages\\sklearn\\linear_model\\_coordinate_descent.py:678: ConvergenceWarning: Objective did not converge. You might want to increase the number of iterations, check the scale of the features or consider increasing regularisation. Duality gap: 1.216e+13, tolerance: 2.981e+09\n",
      "  model = cd_fast.enet_coordinate_descent(\n",
      "c:\\Users\\rkgst\\anaconda3\\Lib\\site-packages\\sklearn\\linear_model\\_coordinate_descent.py:678: ConvergenceWarning: Objective did not converge. You might want to increase the number of iterations, check the scale of the features or consider increasing regularisation. Duality gap: 1.355e+13, tolerance: 3.365e+09\n",
      "  model = cd_fast.enet_coordinate_descent(\n",
      "c:\\Users\\rkgst\\anaconda3\\Lib\\site-packages\\sklearn\\linear_model\\_coordinate_descent.py:678: ConvergenceWarning: Objective did not converge. You might want to increase the number of iterations, check the scale of the features or consider increasing regularisation. Duality gap: 1.146e+13, tolerance: 2.843e+09\n",
      "  model = cd_fast.enet_coordinate_descent(\n",
      "c:\\Users\\rkgst\\anaconda3\\Lib\\site-packages\\sklearn\\linear_model\\_coordinate_descent.py:678: ConvergenceWarning: Objective did not converge. You might want to increase the number of iterations, check the scale of the features or consider increasing regularisation. Duality gap: 1.350e+13, tolerance: 3.338e+09\n",
      "  model = cd_fast.enet_coordinate_descent(\n",
      "c:\\Users\\rkgst\\anaconda3\\Lib\\site-packages\\sklearn\\linear_model\\_coordinate_descent.py:678: ConvergenceWarning: Objective did not converge. You might want to increase the number of iterations, check the scale of the features or consider increasing regularisation. Duality gap: 3.424e+12, tolerance: 1.690e+09\n",
      "  model = cd_fast.enet_coordinate_descent(\n",
      "c:\\Users\\rkgst\\anaconda3\\Lib\\site-packages\\sklearn\\linear_model\\_coordinate_descent.py:678: ConvergenceWarning: Objective did not converge. You might want to increase the number of iterations, check the scale of the features or consider increasing regularisation. Duality gap: 1.198e+13, tolerance: 2.981e+09\n",
      "  model = cd_fast.enet_coordinate_descent(\n",
      "c:\\Users\\rkgst\\anaconda3\\Lib\\site-packages\\sklearn\\linear_model\\_coordinate_descent.py:678: ConvergenceWarning: Objective did not converge. You might want to increase the number of iterations, check the scale of the features or consider increasing regularisation. Duality gap: 7.398e+12, tolerance: 3.365e+09\n",
      "  model = cd_fast.enet_coordinate_descent(\n",
      "c:\\Users\\rkgst\\anaconda3\\Lib\\site-packages\\sklearn\\linear_model\\_coordinate_descent.py:678: ConvergenceWarning: Objective did not converge. You might want to increase the number of iterations, check the scale of the features or consider increasing regularisation. Duality gap: 6.312e+12, tolerance: 2.843e+09\n",
      "  model = cd_fast.enet_coordinate_descent(\n",
      "c:\\Users\\rkgst\\anaconda3\\Lib\\site-packages\\sklearn\\linear_model\\_coordinate_descent.py:678: ConvergenceWarning: Objective did not converge. You might want to increase the number of iterations, check the scale of the features or consider increasing regularisation. Duality gap: 7.514e+12, tolerance: 3.338e+09\n",
      "  model = cd_fast.enet_coordinate_descent(\n",
      "c:\\Users\\rkgst\\anaconda3\\Lib\\site-packages\\sklearn\\linear_model\\_coordinate_descent.py:678: ConvergenceWarning: Objective did not converge. You might want to increase the number of iterations, check the scale of the features or consider increasing regularisation. Duality gap: 6.510e+12, tolerance: 2.981e+09\n",
      "  model = cd_fast.enet_coordinate_descent(\n",
      "c:\\Users\\rkgst\\anaconda3\\Lib\\site-packages\\sklearn\\linear_model\\_coordinate_descent.py:678: ConvergenceWarning: Objective did not converge. You might want to increase the number of iterations, check the scale of the features or consider increasing regularisation. Duality gap: 7.518e+12, tolerance: 3.365e+09\n",
      "  model = cd_fast.enet_coordinate_descent(\n",
      "c:\\Users\\rkgst\\anaconda3\\Lib\\site-packages\\sklearn\\linear_model\\_coordinate_descent.py:678: ConvergenceWarning: Objective did not converge. You might want to increase the number of iterations, check the scale of the features or consider increasing regularisation. Duality gap: 6.415e+12, tolerance: 2.843e+09\n",
      "  model = cd_fast.enet_coordinate_descent(\n",
      "c:\\Users\\rkgst\\anaconda3\\Lib\\site-packages\\sklearn\\linear_model\\_coordinate_descent.py:678: ConvergenceWarning: Objective did not converge. You might want to increase the number of iterations, check the scale of the features or consider increasing regularisation. Duality gap: 7.634e+12, tolerance: 3.338e+09\n",
      "  model = cd_fast.enet_coordinate_descent(\n",
      "c:\\Users\\rkgst\\anaconda3\\Lib\\site-packages\\sklearn\\linear_model\\_coordinate_descent.py:678: ConvergenceWarning: Objective did not converge. You might want to increase the number of iterations, check the scale of the features or consider increasing regularisation. Duality gap: 6.619e+12, tolerance: 2.981e+09\n",
      "  model = cd_fast.enet_coordinate_descent(\n",
      "c:\\Users\\rkgst\\anaconda3\\Lib\\site-packages\\sklearn\\linear_model\\_coordinate_descent.py:678: ConvergenceWarning: Objective did not converge. You might want to increase the number of iterations, check the scale of the features or consider increasing regularisation. Duality gap: 7.458e+12, tolerance: 3.365e+09\n",
      "  model = cd_fast.enet_coordinate_descent(\n",
      "c:\\Users\\rkgst\\anaconda3\\Lib\\site-packages\\sklearn\\linear_model\\_coordinate_descent.py:678: ConvergenceWarning: Objective did not converge. You might want to increase the number of iterations, check the scale of the features or consider increasing regularisation. Duality gap: 6.363e+12, tolerance: 2.843e+09\n",
      "  model = cd_fast.enet_coordinate_descent(\n",
      "c:\\Users\\rkgst\\anaconda3\\Lib\\site-packages\\sklearn\\linear_model\\_coordinate_descent.py:678: ConvergenceWarning: Objective did not converge. You might want to increase the number of iterations, check the scale of the features or consider increasing regularisation. Duality gap: 7.574e+12, tolerance: 3.338e+09\n",
      "  model = cd_fast.enet_coordinate_descent(\n",
      "c:\\Users\\rkgst\\anaconda3\\Lib\\site-packages\\sklearn\\linear_model\\_coordinate_descent.py:678: ConvergenceWarning: Objective did not converge. You might want to increase the number of iterations, check the scale of the features or consider increasing regularisation. Duality gap: 6.564e+12, tolerance: 2.981e+09\n",
      "  model = cd_fast.enet_coordinate_descent(\n",
      "c:\\Users\\rkgst\\anaconda3\\Lib\\site-packages\\sklearn\\linear_model\\_coordinate_descent.py:678: ConvergenceWarning: Objective did not converge. You might want to increase the number of iterations, check the scale of the features or consider increasing regularisation. Duality gap: 7.097e+12, tolerance: 3.365e+09\n",
      "  model = cd_fast.enet_coordinate_descent(\n",
      "c:\\Users\\rkgst\\anaconda3\\Lib\\site-packages\\sklearn\\linear_model\\_coordinate_descent.py:678: ConvergenceWarning: Objective did not converge. You might want to increase the number of iterations, check the scale of the features or consider increasing regularisation. Duality gap: 6.055e+12, tolerance: 2.843e+09\n",
      "  model = cd_fast.enet_coordinate_descent(\n",
      "c:\\Users\\rkgst\\anaconda3\\Lib\\site-packages\\sklearn\\linear_model\\_coordinate_descent.py:678: ConvergenceWarning: Objective did not converge. You might want to increase the number of iterations, check the scale of the features or consider increasing regularisation. Duality gap: 7.214e+12, tolerance: 3.338e+09\n",
      "  model = cd_fast.enet_coordinate_descent(\n",
      "c:\\Users\\rkgst\\anaconda3\\Lib\\site-packages\\sklearn\\linear_model\\_coordinate_descent.py:678: ConvergenceWarning: Objective did not converge. You might want to increase the number of iterations, check the scale of the features or consider increasing regularisation. Duality gap: 6.237e+12, tolerance: 2.981e+09\n",
      "  model = cd_fast.enet_coordinate_descent(\n",
      "c:\\Users\\rkgst\\anaconda3\\Lib\\site-packages\\sklearn\\linear_model\\_coordinate_descent.py:678: ConvergenceWarning: Objective did not converge. You might want to increase the number of iterations, check the scale of the features or consider increasing regularisation. Duality gap: 1.184e+13, tolerance: 3.365e+09\n",
      "  model = cd_fast.enet_coordinate_descent(\n",
      "c:\\Users\\rkgst\\anaconda3\\Lib\\site-packages\\sklearn\\linear_model\\_coordinate_descent.py:678: ConvergenceWarning: Objective did not converge. You might want to increase the number of iterations, check the scale of the features or consider increasing regularisation. Duality gap: 1.003e+13, tolerance: 2.843e+09\n",
      "  model = cd_fast.enet_coordinate_descent(\n",
      "c:\\Users\\rkgst\\anaconda3\\Lib\\site-packages\\sklearn\\linear_model\\_coordinate_descent.py:678: ConvergenceWarning: Objective did not converge. You might want to increase the number of iterations, check the scale of the features or consider increasing regularisation. Duality gap: 1.184e+13, tolerance: 3.338e+09\n",
      "  model = cd_fast.enet_coordinate_descent(\n",
      "c:\\Users\\rkgst\\anaconda3\\Lib\\site-packages\\sklearn\\linear_model\\_coordinate_descent.py:678: ConvergenceWarning: Objective did not converge. You might want to increase the number of iterations, check the scale of the features or consider increasing regularisation. Duality gap: 9.373e+11, tolerance: 1.690e+09\n",
      "  model = cd_fast.enet_coordinate_descent(\n",
      "c:\\Users\\rkgst\\anaconda3\\Lib\\site-packages\\sklearn\\linear_model\\_coordinate_descent.py:678: ConvergenceWarning: Objective did not converge. You might want to increase the number of iterations, check the scale of the features or consider increasing regularisation. Duality gap: 1.046e+13, tolerance: 2.981e+09\n",
      "  model = cd_fast.enet_coordinate_descent(\n",
      "c:\\Users\\rkgst\\anaconda3\\Lib\\site-packages\\sklearn\\linear_model\\_coordinate_descent.py:678: ConvergenceWarning: Objective did not converge. You might want to increase the number of iterations, check the scale of the features or consider increasing regularisation. Duality gap: 1.193e+13, tolerance: 3.365e+09\n",
      "  model = cd_fast.enet_coordinate_descent(\n",
      "c:\\Users\\rkgst\\anaconda3\\Lib\\site-packages\\sklearn\\linear_model\\_coordinate_descent.py:678: ConvergenceWarning: Objective did not converge. You might want to increase the number of iterations, check the scale of the features or consider increasing regularisation. Duality gap: 1.011e+13, tolerance: 2.843e+09\n",
      "  model = cd_fast.enet_coordinate_descent(\n",
      "c:\\Users\\rkgst\\anaconda3\\Lib\\site-packages\\sklearn\\linear_model\\_coordinate_descent.py:678: ConvergenceWarning: Objective did not converge. You might want to increase the number of iterations, check the scale of the features or consider increasing regularisation. Duality gap: 1.193e+13, tolerance: 3.338e+09\n",
      "  model = cd_fast.enet_coordinate_descent(\n",
      "c:\\Users\\rkgst\\anaconda3\\Lib\\site-packages\\sklearn\\linear_model\\_coordinate_descent.py:678: ConvergenceWarning: Objective did not converge. You might want to increase the number of iterations, check the scale of the features or consider increasing regularisation. Duality gap: 9.673e+11, tolerance: 1.690e+09\n",
      "  model = cd_fast.enet_coordinate_descent(\n",
      "c:\\Users\\rkgst\\anaconda3\\Lib\\site-packages\\sklearn\\linear_model\\_coordinate_descent.py:678: ConvergenceWarning: Objective did not converge. You might want to increase the number of iterations, check the scale of the features or consider increasing regularisation. Duality gap: 1.054e+13, tolerance: 2.981e+09\n",
      "  model = cd_fast.enet_coordinate_descent(\n",
      "c:\\Users\\rkgst\\anaconda3\\Lib\\site-packages\\sklearn\\linear_model\\_coordinate_descent.py:678: ConvergenceWarning: Objective did not converge. You might want to increase the number of iterations, check the scale of the features or consider increasing regularisation. Duality gap: 1.188e+13, tolerance: 3.365e+09\n",
      "  model = cd_fast.enet_coordinate_descent(\n",
      "c:\\Users\\rkgst\\anaconda3\\Lib\\site-packages\\sklearn\\linear_model\\_coordinate_descent.py:678: ConvergenceWarning: Objective did not converge. You might want to increase the number of iterations, check the scale of the features or consider increasing regularisation. Duality gap: 1.007e+13, tolerance: 2.843e+09\n",
      "  model = cd_fast.enet_coordinate_descent(\n",
      "c:\\Users\\rkgst\\anaconda3\\Lib\\site-packages\\sklearn\\linear_model\\_coordinate_descent.py:678: ConvergenceWarning: Objective did not converge. You might want to increase the number of iterations, check the scale of the features or consider increasing regularisation. Duality gap: 1.188e+13, tolerance: 3.338e+09\n",
      "  model = cd_fast.enet_coordinate_descent(\n",
      "c:\\Users\\rkgst\\anaconda3\\Lib\\site-packages\\sklearn\\linear_model\\_coordinate_descent.py:678: ConvergenceWarning: Objective did not converge. You might want to increase the number of iterations, check the scale of the features or consider increasing regularisation. Duality gap: 9.522e+11, tolerance: 1.690e+09\n",
      "  model = cd_fast.enet_coordinate_descent(\n",
      "c:\\Users\\rkgst\\anaconda3\\Lib\\site-packages\\sklearn\\linear_model\\_coordinate_descent.py:678: ConvergenceWarning: Objective did not converge. You might want to increase the number of iterations, check the scale of the features or consider increasing regularisation. Duality gap: 1.050e+13, tolerance: 2.981e+09\n",
      "  model = cd_fast.enet_coordinate_descent(\n",
      "c:\\Users\\rkgst\\anaconda3\\Lib\\site-packages\\sklearn\\linear_model\\_coordinate_descent.py:678: ConvergenceWarning: Objective did not converge. You might want to increase the number of iterations, check the scale of the features or consider increasing regularisation. Duality gap: 1.160e+13, tolerance: 3.365e+09\n",
      "  model = cd_fast.enet_coordinate_descent(\n",
      "c:\\Users\\rkgst\\anaconda3\\Lib\\site-packages\\sklearn\\linear_model\\_coordinate_descent.py:678: ConvergenceWarning: Objective did not converge. You might want to increase the number of iterations, check the scale of the features or consider increasing regularisation. Duality gap: 9.825e+12, tolerance: 2.843e+09\n",
      "  model = cd_fast.enet_coordinate_descent(\n",
      "c:\\Users\\rkgst\\anaconda3\\Lib\\site-packages\\sklearn\\linear_model\\_coordinate_descent.py:678: ConvergenceWarning: Objective did not converge. You might want to increase the number of iterations, check the scale of the features or consider increasing regularisation. Duality gap: 1.160e+13, tolerance: 3.338e+09\n",
      "  model = cd_fast.enet_coordinate_descent(\n",
      "c:\\Users\\rkgst\\anaconda3\\Lib\\site-packages\\sklearn\\linear_model\\_coordinate_descent.py:678: ConvergenceWarning: Objective did not converge. You might want to increase the number of iterations, check the scale of the features or consider increasing regularisation. Duality gap: 8.653e+11, tolerance: 1.690e+09\n",
      "  model = cd_fast.enet_coordinate_descent(\n",
      "c:\\Users\\rkgst\\anaconda3\\Lib\\site-packages\\sklearn\\linear_model\\_coordinate_descent.py:678: ConvergenceWarning: Objective did not converge. You might want to increase the number of iterations, check the scale of the features or consider increasing regularisation. Duality gap: 1.024e+13, tolerance: 2.981e+09\n",
      "  model = cd_fast.enet_coordinate_descent(\n",
      "c:\\Users\\rkgst\\anaconda3\\Lib\\site-packages\\sklearn\\linear_model\\_coordinate_descent.py:678: ConvergenceWarning: Objective did not converge. You might want to increase the number of iterations, check the scale of the features or consider increasing regularisation. Duality gap: 1.380e+13, tolerance: 3.554e+09\n",
      "  model = cd_fast.enet_coordinate_descent(\n",
      "c:\\Users\\rkgst\\anaconda3\\Lib\\site-packages\\sklearn\\linear_model\\_coordinate_descent.py:678: ConvergenceWarning: Objective did not converge. You might want to increase the number of iterations, check the scale of the features or consider increasing regularisation. Duality gap: 1.380e+13, tolerance: 3.554e+09\n",
      "  model = cd_fast.enet_coordinate_descent(\n"
     ]
    },
    {
     "name": "stdout",
     "output_type": "stream",
     "text": [
      "{'linearRegression': {'r2_train': 0.009231708220534873, 'r2_test': 0.002918975672299151, 'adj_r2': 0.0028756811907664215}, 'ridge': {'r2_train': 0.009227643103983718, 'r2_test': 0.0035821208874600163, 'adj_r2': 0.00353885520050623}, 'lasso': {'r2_train': 0.003845030583574771, 'r2_test': 0.007577342121959152, 'adj_r2': 0.007534249912413582}}\n",
      "training.... ElasticNet()\n",
      "{'linearRegression': {'r2_train': 0.009231708220534873, 'r2_test': 0.002918975672299151, 'adj_r2': 0.0028756811907664215}, 'ridge': {'r2_train': 0.009227643103983718, 'r2_test': 0.0035821208874600163, 'adj_r2': 0.00353885520050623}, 'lasso': {'r2_train': 0.003845030583574771, 'r2_test': 0.007577342121959152, 'adj_r2': 0.007534249912413582}, 'elasticNet': {'r2_train': 0.001756605064521466, 'r2_test': 0.004529043525074217, 'adj_r2': 0.004485818954663268}}\n",
      "training.... DecisionTreeRegressor()\n"
     ]
    }
   ],
   "source": [
    "report = {}\n",
    "for i in range(len(list(models))):\n",
    "        model = list(models.values())[i]\n",
    "        param = params[list(models.keys())[i]]\n",
    "\n",
    "        print('training....', model)\n",
    "        gs = GridSearchCV(model, param, cv=5)\n",
    "        gs.fit(X_train, y_train)\n",
    "\n",
    "        model.set_params(**gs.best_params_)\n",
    "        model.fit(X_train, y_train)\n",
    "\n",
    "        y_train_pred = model.predict(X_train)\n",
    "        y_test_pred = model.predict(X_test)\n",
    "\n",
    "        train_score_r2 = r2_score(y_train, y_train_pred)\n",
    "        test_score_r2 = r2_score(y_test, y_test_pred)\n",
    "\n",
    "        n, p = X_test.shape\n",
    "\n",
    "        adj_r2 = 1 - (1 - test_score_r2) * (n - 1) / (n - p - 1)\n",
    "        #print(train_score_r2, test_score_r2, adj_r2)\n",
    "\n",
    "        report[list(models.keys())[i]] = {'r2_train': train_score_r2, 'r2_test': test_score_r2, 'adj_r2': adj_r2}\n",
    "        print(report)"
   ]
  },
  {
   "cell_type": "code",
   "execution_count": null,
   "metadata": {},
   "outputs": [],
   "source": []
  },
  {
   "cell_type": "code",
   "execution_count": null,
   "metadata": {},
   "outputs": [],
   "source": []
  },
  {
   "cell_type": "code",
   "execution_count": null,
   "metadata": {},
   "outputs": [],
   "source": []
  },
  {
   "cell_type": "code",
   "execution_count": null,
   "metadata": {},
   "outputs": [],
   "source": []
  },
  {
   "cell_type": "code",
   "execution_count": null,
   "metadata": {},
   "outputs": [],
   "source": []
  },
  {
   "cell_type": "code",
   "execution_count": null,
   "metadata": {},
   "outputs": [],
   "source": []
  },
  {
   "cell_type": "code",
   "execution_count": null,
   "metadata": {},
   "outputs": [],
   "source": []
  },
  {
   "cell_type": "code",
   "execution_count": null,
   "metadata": {},
   "outputs": [],
   "source": []
  },
  {
   "cell_type": "code",
   "execution_count": null,
   "metadata": {},
   "outputs": [],
   "source": []
  },
  {
   "cell_type": "code",
   "execution_count": null,
   "metadata": {},
   "outputs": [],
   "source": []
  }
 ],
 "metadata": {
  "kernelspec": {
   "display_name": "ny-taxi",
   "language": "python",
   "name": "python3"
  },
  "language_info": {
   "codemirror_mode": {
    "name": "ipython",
    "version": 3
   },
   "file_extension": ".py",
   "mimetype": "text/x-python",
   "name": "python",
   "nbconvert_exporter": "python",
   "pygments_lexer": "ipython3",
   "version": "3.11.7"
  }
 },
 "nbformat": 4,
 "nbformat_minor": 2
}
